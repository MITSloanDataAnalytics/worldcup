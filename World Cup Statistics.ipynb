{
 "metadata": {
  "name": "",
  "signature": "sha256:c9d846585900d085c91f4a3b047a9b90b1900b44db5db171b2d9c41d3527f969"
 },
 "nbformat": 3,
 "nbformat_minor": 0,
 "worksheets": [
  {
   "cells": [
    {
     "cell_type": "markdown",
     "metadata": {},
     "source": [
      "# World Cup Goalie Analysis\n",
      "\n",
      "In this ipython notebook will take a bayesian approach to analyzing just how good Tim Howard's record was during the world cup compared to other goalies.  I take an [empirical bayes approach](http://en.wikipedia.org/wiki/Empirical_Bayes_method).\n",
      "\n",
      "The actual Bayesian analysis is pretty straightforward but getting the data is not.  As a result most of this notebook deals with scraping and preparing the data.  Feel free to skip ahead to the actual analysis if this doesn't interest you.\n",
      "\n",
      "## Data Preparation\n",
      "\n",
      "Unless you happen to be interested in how to scrape data, you should probably skip this section."
     ]
    },
    {
     "cell_type": "code",
     "collapsed": false,
     "input": [
      "%pylab inline"
     ],
     "language": "python",
     "metadata": {},
     "outputs": [
      {
       "output_type": "stream",
       "stream": "stdout",
       "text": [
        "Populating the interactive namespace from numpy and matplotlib\n"
       ]
      }
     ],
     "prompt_number": 1
    },
    {
     "cell_type": "markdown",
     "metadata": {},
     "source": []
    },
    {
     "cell_type": "code",
     "collapsed": false,
     "input": [
      "% ls data"
     ],
     "language": "python",
     "metadata": {},
     "outputs": [
      {
       "output_type": "stream",
       "stream": "stdout",
       "text": [
        "2014 FIFA World Cup Brazil\u2122  Brazil-Croatia - Statistics - FIFA.com.html\r\n",
        "\u001b[0m\u001b[01;34m2014 FIFA World Cup Brazil\u2122 - Statistics - Matches - Top attacks - FIFA.com_files\u001b[0m\u001b[K/\r\n",
        "2014 FIFA World Cup Brazil\u2122 - Statistics - Matches - Top attacks - FIFA.com.html\r\n",
        "\u001b[01;34m2014 FIFA World Cup Brazil\u2122 - Statistics - Matches - Top defending - FIFA.com_files\u001b[0m\u001b[K/\r\n",
        "2014 FIFA World Cup Brazil\u2122 - Statistics - Matches - Top defending - FIFA.com.html\r\n",
        "\u001b[01;34m2014 FIFA World Cup Brazil\u2122 - Statistics - Matches - Top goals - FIFA.com_files\u001b[0m\u001b[K/\r\n",
        "2014 FIFA World Cup Brazil\u2122 - Statistics - Matches - Top goals - FIFA.com.html\r\n",
        "all_stats.json\r\n",
        "attacking.csv\r\n",
        "defending.csv\r\n",
        "goals.csv\r\n",
        "shots.csv\r\n",
        "usa.json\r\n"
       ]
      }
     ],
     "prompt_number": 216
    },
    {
     "cell_type": "code",
     "collapsed": false,
     "input": [
      "# grab data!  First focus on world cup data from FIFA.  Tabular form\n",
      "\n",
      "import pandas as pd\n",
      "\n",
      "goals = pd.read_csv('data/goals.csv')\n",
      "goals.head()"
     ],
     "language": "python",
     "metadata": {},
     "outputs": [
      {
       "html": [
        "<div style=\"max-height:1000px;max-width:1500px;overflow:auto;\">\n",
        "<table border=\"1\" class=\"dataframe\">\n",
        "  <thead>\n",
        "    <tr style=\"text-align: right;\">\n",
        "      <th></th>\n",
        "      <th>Unnamed: 0</th>\n",
        "      <th>Goals For</th>\n",
        "      <th>Goals from Inside</th>\n",
        "      <th>Goals from Outside</th>\n",
        "      <th>Own Goals For</th>\n",
        "      <th>Open Play Goals</th>\n",
        "      <th>Set Piece Goals</th>\n",
        "      <th>Penalty Goal</th>\n",
        "    </tr>\n",
        "  </thead>\n",
        "  <tbody>\n",
        "    <tr>\n",
        "      <th>0</th>\n",
        "      <td> BRA-GER</td>\n",
        "      <td> 8</td>\n",
        "      <td> 8</td>\n",
        "      <td> 0</td>\n",
        "      <td> 0</td>\n",
        "      <td> 7</td>\n",
        "      <td> 1</td>\n",
        "      <td> 0</td>\n",
        "    </tr>\n",
        "    <tr>\n",
        "      <th>1</th>\n",
        "      <td> SUI-FRA</td>\n",
        "      <td> 7</td>\n",
        "      <td> 6</td>\n",
        "      <td> 1</td>\n",
        "      <td> 0</td>\n",
        "      <td> 5</td>\n",
        "      <td> 2</td>\n",
        "      <td> 0</td>\n",
        "    </tr>\n",
        "    <tr>\n",
        "      <th>2</th>\n",
        "      <td> KOR-ALG</td>\n",
        "      <td> 6</td>\n",
        "      <td> 6</td>\n",
        "      <td> 0</td>\n",
        "      <td> 0</td>\n",
        "      <td> 5</td>\n",
        "      <td> 1</td>\n",
        "      <td> 0</td>\n",
        "    </tr>\n",
        "    <tr>\n",
        "      <th>3</th>\n",
        "      <td> ESP-NED</td>\n",
        "      <td> 6</td>\n",
        "      <td> 6</td>\n",
        "      <td> 0</td>\n",
        "      <td> 0</td>\n",
        "      <td> 5</td>\n",
        "      <td> 1</td>\n",
        "      <td> 1</td>\n",
        "    </tr>\n",
        "    <tr>\n",
        "      <th>4</th>\n",
        "      <td> AUS-NED</td>\n",
        "      <td> 5</td>\n",
        "      <td> 4</td>\n",
        "      <td> 1</td>\n",
        "      <td> 0</td>\n",
        "      <td> 4</td>\n",
        "      <td> 1</td>\n",
        "      <td> 1</td>\n",
        "    </tr>\n",
        "  </tbody>\n",
        "</table>\n",
        "<p>5 rows \u00d7 8 columns</p>\n",
        "</div>"
       ],
       "metadata": {},
       "output_type": "pyout",
       "prompt_number": 3,
       "text": [
        "  Unnamed: 0  Goals For  Goals from Inside  Goals from Outside  Own Goals For  \\\n",
        "0    BRA-GER          8                  8                   0              0   \n",
        "1    SUI-FRA          7                  6                   1              0   \n",
        "2    KOR-ALG          6                  6                   0              0   \n",
        "3    ESP-NED          6                  6                   0              0   \n",
        "4    AUS-NED          5                  4                   1              0   \n",
        "\n",
        "   Open Play Goals  Set Piece Goals  Penalty Goal  \n",
        "0                7                1             0  \n",
        "1                5                2             0  \n",
        "2                5                1             0  \n",
        "3                5                1             1  \n",
        "4                4                1             1  \n",
        "\n",
        "[5 rows x 8 columns]"
       ]
      }
     ],
     "prompt_number": 3
    },
    {
     "cell_type": "code",
     "collapsed": false,
     "input": [
      "goals.ix[:, 0][0:5]"
     ],
     "language": "python",
     "metadata": {},
     "outputs": [
      {
       "metadata": {},
       "output_type": "pyout",
       "prompt_number": 217,
       "text": [
        "0    BRA-GER\n",
        "1    SUI-FRA\n",
        "2    KOR-ALG\n",
        "3    ESP-NED\n",
        "4    AUS-NED\n",
        "Name: Unnamed: 0, dtype: object"
       ]
      }
     ],
     "prompt_number": 217
    },
    {
     "cell_type": "code",
     "collapsed": false,
     "input": [
      "goals.describe()"
     ],
     "language": "python",
     "metadata": {},
     "outputs": [
      {
       "html": [
        "<div style=\"max-height:1000px;max-width:1500px;overflow:auto;\">\n",
        "<table border=\"1\" class=\"dataframe\">\n",
        "  <thead>\n",
        "    <tr style=\"text-align: right;\">\n",
        "      <th></th>\n",
        "      <th>Goals For</th>\n",
        "      <th>Goals from Inside</th>\n",
        "      <th>Goals from Outside</th>\n",
        "      <th>Own Goals For</th>\n",
        "      <th>Open Play Goals</th>\n",
        "      <th>Set Piece Goals</th>\n",
        "      <th>Penalty Goal</th>\n",
        "    </tr>\n",
        "  </thead>\n",
        "  <tbody>\n",
        "    <tr>\n",
        "      <th>count</th>\n",
        "      <td> 55.000000</td>\n",
        "      <td> 55.000000</td>\n",
        "      <td> 55.000000</td>\n",
        "      <td> 55.000000</td>\n",
        "      <td> 55.000000</td>\n",
        "      <td> 55.000000</td>\n",
        "      <td> 55.000000</td>\n",
        "    </tr>\n",
        "    <tr>\n",
        "      <th>mean</th>\n",
        "      <td>  3.036364</td>\n",
        "      <td>  2.545455</td>\n",
        "      <td>  0.400000</td>\n",
        "      <td>  0.090909</td>\n",
        "      <td>  2.509091</td>\n",
        "      <td>  0.527273</td>\n",
        "      <td>  0.200000</td>\n",
        "    </tr>\n",
        "    <tr>\n",
        "      <th>std</th>\n",
        "      <td>  1.586560</td>\n",
        "      <td>  1.630930</td>\n",
        "      <td>  0.564374</td>\n",
        "      <td>  0.290129</td>\n",
        "      <td>  1.412546</td>\n",
        "      <td>  0.716332</td>\n",
        "      <td>  0.403687</td>\n",
        "    </tr>\n",
        "    <tr>\n",
        "      <th>min</th>\n",
        "      <td>  1.000000</td>\n",
        "      <td>  0.000000</td>\n",
        "      <td>  0.000000</td>\n",
        "      <td>  0.000000</td>\n",
        "      <td>  0.000000</td>\n",
        "      <td>  0.000000</td>\n",
        "      <td>  0.000000</td>\n",
        "    </tr>\n",
        "    <tr>\n",
        "      <th>25%</th>\n",
        "      <td>  2.000000</td>\n",
        "      <td>  1.000000</td>\n",
        "      <td>  0.000000</td>\n",
        "      <td>  0.000000</td>\n",
        "      <td>  1.500000</td>\n",
        "      <td>  0.000000</td>\n",
        "      <td>  0.000000</td>\n",
        "    </tr>\n",
        "    <tr>\n",
        "      <th>50%</th>\n",
        "      <td>  3.000000</td>\n",
        "      <td>  2.000000</td>\n",
        "      <td>  0.000000</td>\n",
        "      <td>  0.000000</td>\n",
        "      <td>  2.000000</td>\n",
        "      <td>  0.000000</td>\n",
        "      <td>  0.000000</td>\n",
        "    </tr>\n",
        "    <tr>\n",
        "      <th>75%</th>\n",
        "      <td>  4.000000</td>\n",
        "      <td>  3.000000</td>\n",
        "      <td>  1.000000</td>\n",
        "      <td>  0.000000</td>\n",
        "      <td>  3.000000</td>\n",
        "      <td>  1.000000</td>\n",
        "      <td>  0.000000</td>\n",
        "    </tr>\n",
        "    <tr>\n",
        "      <th>max</th>\n",
        "      <td>  8.000000</td>\n",
        "      <td>  8.000000</td>\n",
        "      <td>  2.000000</td>\n",
        "      <td>  1.000000</td>\n",
        "      <td>  7.000000</td>\n",
        "      <td>  3.000000</td>\n",
        "      <td>  1.000000</td>\n",
        "    </tr>\n",
        "  </tbody>\n",
        "</table>\n",
        "<p>8 rows \u00d7 7 columns</p>\n",
        "</div>"
       ],
       "metadata": {},
       "output_type": "pyout",
       "prompt_number": 5,
       "text": [
        "       Goals For  Goals from Inside  Goals from Outside  Own Goals For  \\\n",
        "count  55.000000          55.000000           55.000000      55.000000   \n",
        "mean    3.036364           2.545455            0.400000       0.090909   \n",
        "std     1.586560           1.630930            0.564374       0.290129   \n",
        "min     1.000000           0.000000            0.000000       0.000000   \n",
        "25%     2.000000           1.000000            0.000000       0.000000   \n",
        "50%     3.000000           2.000000            0.000000       0.000000   \n",
        "75%     4.000000           3.000000            1.000000       0.000000   \n",
        "max     8.000000           8.000000            2.000000       1.000000   \n",
        "\n",
        "       Open Play Goals  Set Piece Goals  Penalty Goal  \n",
        "count        55.000000        55.000000     55.000000  \n",
        "mean          2.509091         0.527273      0.200000  \n",
        "std           1.412546         0.716332      0.403687  \n",
        "min           0.000000         0.000000      0.000000  \n",
        "25%           1.500000         0.000000      0.000000  \n",
        "50%           2.000000         0.000000      0.000000  \n",
        "75%           3.000000         1.000000      0.000000  \n",
        "max           7.000000         3.000000      1.000000  \n",
        "\n",
        "[8 rows x 7 columns]"
       ]
      }
     ],
     "prompt_number": 5
    },
    {
     "cell_type": "markdown",
     "metadata": {},
     "source": [
      "Unfortunately this data isn't usable because it combines the stats for both teams!  How lame.  It looks like we'll have to scrap the data from all ~55 individual games.  We can do this by:\n",
      "\n",
      "1. Find the round and match ID for each game from one of their statistics pages.\n",
      "2. Use this to go the statistics page for each match\n",
      "3. Scrape statistics from each match\n",
      "4. Load this into a good data structure for analysis"
     ]
    },
    {
     "cell_type": "code",
     "collapsed": false,
     "input": [
      "# from bs4 import BeautifulSoup\n",
      "\n",
      "with open('data/2014 FIFA World Cup Brazil\u2122 - Statistics - Matches - Top attacks - FIFA.com.html', 'r') as f:\n",
      "    raw_page = f.read()\n",
      "\n",
      "# big_page_soup = BeautifulSoup(raw_page)"
     ],
     "language": "python",
     "metadata": {},
     "outputs": [],
     "prompt_number": 218
    },
    {
     "cell_type": "code",
     "collapsed": false,
     "input": [
      "import re\n",
      "\n",
      "example_url = 'http://www.fifa.com/worldcup/matches/round=255931/match=300186456/index.html#nosticky'\n",
      "url_re = r'http://www.fifa.com/worldcup/matches/round=(\\d{6})/match=(\\d{9})/index.html'\n",
      "\n",
      "game_urls = re.findall(url_re, raw_page)\n",
      "\n",
      "len(game_urls)"
     ],
     "language": "python",
     "metadata": {},
     "outputs": [
      {
       "metadata": {},
       "output_type": "pyout",
       "prompt_number": 219,
       "text": [
        "68"
       ]
      }
     ],
     "prompt_number": 219
    },
    {
     "cell_type": "code",
     "collapsed": false,
     "input": [
      "game_urls[:5]"
     ],
     "language": "python",
     "metadata": {},
     "outputs": [
      {
       "metadata": {},
       "output_type": "pyout",
       "prompt_number": 220,
       "text": [
        "[('255955', '300186474'),\n",
        " ('255955', '300186490'),\n",
        " ('255957', '300186502'),\n",
        " ('255959', '300186501'),\n",
        " ('255957', '300186502')]"
       ]
      }
     ],
     "prompt_number": 220
    },
    {
     "cell_type": "code",
     "collapsed": false,
     "input": [
      "# Scrape statistics from each game url\n",
      "\n",
      "import requests\n",
      "from bs4 import BeautifulSoup\n",
      "\n",
      "test_url = 'http://www.fifa.com/worldcup/matches/round=255931/match=300186456/statistics.html'\n",
      "\n",
      "def extract_stats(url):\n",
      "    \"\"\"function to extract all statistics\"\"\"\n",
      "    r = requests.get(url).text\n",
      "    soup = BeautifulSoup(r)\n",
      "    \n",
      "#     print(soup)\n",
      "\n",
      "    # find teams\n",
      "    header = soup.find('div', 'navbar-matchheader')\n",
      "    home = header.find('div', 't home').find('span', 't-nTri').text  # or use 't-nText' for full name\n",
      "    away = header.find('div', 't away').find('span', 't-nTri').text\n",
      "    \n",
      "    # find stats\n",
      "    stats_tables = soup.find('div', 'general-stats').find_all('div', 'teamstats-wholematch')\n",
      "\n",
      "    data = {}\n",
      "    \n",
      "    # extract data\n",
      "    for stats in stats_tables:\n",
      "        # find rows\n",
      "        rows = None\n",
      "        if stats:\n",
      "            rows = stats.find_all('tr')\n",
      "        \n",
      "        # find stats in each row\n",
      "        for row in rows:\n",
      "            try:\n",
      "                name = row.find('td', 'stats-name').text\n",
      "                home_stats = row.find('td', attrs={'data-statref': 'home'}).text\n",
      "                away_stats = row.find('td', attrs={'data-statref': 'away'}).text\n",
      "\n",
      "                # append data\n",
      "                data[name] = {home:home_stats, away:away_stats}\n",
      "    \n",
      "            except:\n",
      "                print('error on ' + row)\n",
      "\n",
      "    return data\n",
      "\n",
      "test_soup = extract_stats(test_url)\n",
      "test_soup"
     ],
     "language": "python",
     "metadata": {},
     "outputs": [
      {
       "metadata": {},
       "output_type": "pyout",
       "prompt_number": 46,
       "text": [
        "{u'Blocked': {u'BRA': u'3', u'CRO': u'1'},\n",
        " u'Clearances': {u'BRA': u'7', u'CRO': u'13'},\n",
        " u'Dangerous attacks': {u'BRA': u'48', u'CRO': u'38'},\n",
        " u'Deliveries in Penalty area': {u'BRA': u'10', u'CRO': u'5'},\n",
        " u'Goals': {u'BRA': u'3', u'CRO': u'0'},\n",
        " u'Off-Target': {u'BRA': u'5', u'CRO': u'6'},\n",
        " u'On-Target': {u'BRA': u'9', u'CRO': u'4'},\n",
        " u'Passes Completed': {u'BRA': u'433', u'CRO': u'284'},\n",
        " u'Saves': {u'BRA': u'3', u'CRO': u'3'},\n",
        " u'Total': {u'BRA': u'14', u'CRO': u'10'},\n",
        " u'Total attempts': {u'BRA': u'14', u'CRO': u'10'},\n",
        " u'Woodwork': {u'BRA': u'0', u'CRO': u'0'}}"
       ]
      }
     ],
     "prompt_number": 46
    },
    {
     "cell_type": "code",
     "collapsed": false,
     "input": [
      "# Loop through all games and extract stats\n",
      "\n",
      "import time\n",
      "\n",
      "all_stats = {}\n",
      "\n",
      "for round_id, match_id in game_urls:\n",
      "    url = ('http://www.fifa.com/worldcup/matches/round=' + \n",
      "           str(round_id) + '/match=' + str(match_id) + '/statistics.html')\n",
      "    stats_dict = extract_stats(url)\n",
      "    all_stats['{}:{}'.format(round_id, match_id)] = stats_dict\n",
      "    time.sleep(0.1)\n",
      "    \n",
      "# all_stats"
     ],
     "language": "python",
     "metadata": {},
     "outputs": [],
     "prompt_number": 240
    },
    {
     "cell_type": "code",
     "collapsed": false,
     "input": [
      "# save stats for later use\n",
      "\n",
      "import json\n",
      "\n",
      "with open('data/all_stats.json', 'w') as f:\n",
      "    json.dump(all_stats, f)"
     ],
     "language": "python",
     "metadata": {},
     "outputs": [],
     "prompt_number": 48
    },
    {
     "cell_type": "code",
     "collapsed": false,
     "input": [
      "# Reformat data of interest!\n",
      "# We care about a goalies chance of saving an on target goal\n",
      "# So attempts that are on target, ex blocks\n",
      "\n",
      "# The other thing is that because we care about goalies,\n",
      "# we need to switch the team that we are tracking the statistics for\n",
      "\n",
      "def get_goalie_stats(game, t1, t2):\n",
      "    \"\"\"Extracts savable attacks and saves for the goalie on t1\"\"\"\n",
      "    saves = int(game['Saves'][t2])\n",
      "    savable_attacks = int(game['On-Target'][t2]) - int(game['Blocked'][t2])\n",
      "    return savable_attacks, saves\n",
      "\n",
      "goalie_stats = {}\n",
      "for game_no, (ids, game) in enumerate(all_stats.items()):\n",
      "    if 'Goals' in game:\n",
      "        teams = game['Goals'].keys()\n",
      "        t1 = teams[0]\n",
      "        t2 = teams[1]\n",
      "\n",
      "        goalie_stats[t1] = (goalie_stats.get(t1, (0, 0))[0] + get_goalie_stats(game, t1, t2)[0], \n",
      "                            goalie_stats.get(t1, (0, 0))[1] + get_goalie_stats(game, t1, t2)[1] )\n",
      "        goalie_stats[t2] = (goalie_stats.get(t2, (0, 0))[0] + get_goalie_stats(game, t2, t1)[0], \n",
      "                            goalie_stats.get(t2, (0, 0))[1] + get_goalie_stats(game, t2, t1)[1])\n",
      "\n",
      "goalie_stats"
     ],
     "language": "python",
     "metadata": {},
     "outputs": [
      {
       "metadata": {},
       "output_type": "pyout",
       "prompt_number": 222,
       "text": [
        "{u'ALG': (30, 23),\n",
        " u'ARG': (18, 15),\n",
        " u'AUS': (19, 10),\n",
        " u'BEL': (16, 13),\n",
        " u'BIH': (16, 13),\n",
        " u'BRA': (23, 10),\n",
        " u'CHI': (22, 18),\n",
        " u'CIV': (13, 8),\n",
        " u'CMR': (24, 15),\n",
        " u'COL': (27, 22),\n",
        " u'CRC': (23, 21),\n",
        " u'CRO': (11, 5),\n",
        " u'ECU': (21, 18),\n",
        " u'ENG': (10, 5),\n",
        " u'ESP': (14, 7),\n",
        " u'FRA': (13, 10),\n",
        " u'GER': (29, 24),\n",
        " u'GHA': (17, 12),\n",
        " u'GRE': (16, 11),\n",
        " u'HON': (18, 11),\n",
        " u'IRN': (16, 11),\n",
        " u'ITA': (15, 12),\n",
        " u'JPN': (14, 8),\n",
        " u'KOR': (18, 12),\n",
        " u'MEX': (13, 10),\n",
        " u'NED': (23, 18),\n",
        " u'NGA': (25, 21),\n",
        " u'POR': (15, 7),\n",
        " u'RUS': (13, 10),\n",
        " u'SUI': (29, 22),\n",
        " u'URU': (16, 10),\n",
        " u'USA': (33, 27)}"
       ]
      }
     ],
     "prompt_number": 222
    },
    {
     "cell_type": "code",
     "collapsed": false,
     "input": [
      "# Simple save percentages (no prior)\n",
      "\n",
      "{k:float(saves)/savables for k, (savables, saves) in goalie_stats.items()}"
     ],
     "language": "python",
     "metadata": {},
     "outputs": [
      {
       "metadata": {},
       "output_type": "pyout",
       "prompt_number": 223,
       "text": [
        "{u'ALG': 0.7666666666666667,\n",
        " u'ARG': 0.8333333333333334,\n",
        " u'AUS': 0.5263157894736842,\n",
        " u'BEL': 0.8125,\n",
        " u'BIH': 0.8125,\n",
        " u'BRA': 0.43478260869565216,\n",
        " u'CHI': 0.8181818181818182,\n",
        " u'CIV': 0.6153846153846154,\n",
        " u'CMR': 0.625,\n",
        " u'COL': 0.8148148148148148,\n",
        " u'CRC': 0.9130434782608695,\n",
        " u'CRO': 0.45454545454545453,\n",
        " u'ECU': 0.8571428571428571,\n",
        " u'ENG': 0.5,\n",
        " u'ESP': 0.5,\n",
        " u'FRA': 0.7692307692307693,\n",
        " u'GER': 0.8275862068965517,\n",
        " u'GHA': 0.7058823529411765,\n",
        " u'GRE': 0.6875,\n",
        " u'HON': 0.6111111111111112,\n",
        " u'IRN': 0.6875,\n",
        " u'ITA': 0.8,\n",
        " u'JPN': 0.5714285714285714,\n",
        " u'KOR': 0.6666666666666666,\n",
        " u'MEX': 0.7692307692307693,\n",
        " u'NED': 0.782608695652174,\n",
        " u'NGA': 0.84,\n",
        " u'POR': 0.4666666666666667,\n",
        " u'RUS': 0.7692307692307693,\n",
        " u'SUI': 0.7586206896551724,\n",
        " u'URU': 0.625,\n",
        " u'USA': 0.8181818181818182}"
       ]
      }
     ],
     "prompt_number": 223
    },
    {
     "cell_type": "code",
     "collapsed": false,
     "input": [
      "# number of non-saves\n",
      "# {k:savables - saves for k, (savables, saves) in goalie_stats.items()}"
     ],
     "language": "python",
     "metadata": {},
     "outputs": [],
     "prompt_number": 225
    },
    {
     "cell_type": "markdown",
     "metadata": {},
     "source": [
      "## Bayesian Statistics!\n",
      "\n",
      "Here I will model a goalies probability of making a save as a bernoulli random variable with a prior given by the beta distribution.\n",
      "\n",
      "First, I am going to set the prior by choosing the maximum likelihood estimates of the paramters for the beta distribution using all of the data.  Looking at many binary outcomes and using a beta distribution as a conjugate prior means I am using the beta-binomial distribution.\n",
      "\n",
      "Then, I will look at each Goalie's performance by using their results to calculate a posterior probability that they will save an on-target, on-blocked attempt."
     ]
    },
    {
     "cell_type": "code",
     "collapsed": false,
     "input": [
      "total_savables = float(sum([a for a, b in goalie_stats.values()]))\n",
      "total_savables"
     ],
     "language": "python",
     "metadata": {},
     "outputs": [
      {
       "metadata": {},
       "output_type": "pyout",
       "prompt_number": 65,
       "text": [
        "610.0"
       ]
      }
     ],
     "prompt_number": 65
    },
    {
     "cell_type": "code",
     "collapsed": false,
     "input": [
      "total_saves = float(sum([b for a, b in goalie_stats.values()]))\n",
      "total_saves"
     ],
     "language": "python",
     "metadata": {},
     "outputs": [
      {
       "metadata": {},
       "output_type": "pyout",
       "prompt_number": 66,
       "text": [
        "439.0"
       ]
      }
     ],
     "prompt_number": 66
    },
    {
     "cell_type": "code",
     "collapsed": false,
     "input": [
      "# I expect the prior to have an expected mean close to the fraction of\n",
      "# total saves divided by total savables\n",
      "\n",
      "total_frac = total_saves/total_savables\n",
      "total_frac"
     ],
     "language": "python",
     "metadata": {},
     "outputs": [
      {
       "metadata": {},
       "output_type": "pyout",
       "prompt_number": 226,
       "text": [
        "0.719672131147541"
       ]
      }
     ],
     "prompt_number": 226
    },
    {
     "cell_type": "code",
     "collapsed": false,
     "input": [
      "# First, I will form the log-likelihood for the beta-binomial distribution.\n",
      "# Luckily it has a nice closed form solution\n",
      "\n",
      "from scipy.special import betaln, gammaln, comb\n",
      "\n",
      "def nllf(a, b):\n",
      "    result = 0\n",
      "    for savables, saves in goalie_stats.values():\n",
      "#         result += (log(comb(savables, saves)) + betaln(saves + a, savables - saves + b) - betaln(a, b))\n",
      "        # think maybe using gammaln would be more precise    \n",
      "        result += (gammaln(savables + 1) - gammaln(saves + 1) - gammaln(savables - saves + 1) + \n",
      "                   betaln(saves + a, savables - saves + b) - betaln(a, b))  \n",
      "    return -result\n",
      "\n",
      "# test\n",
      "nllf(total_frac, 1.0-total_frac)"
     ],
     "language": "python",
     "metadata": {},
     "outputs": [
      {
       "metadata": {},
       "output_type": "pyout",
       "prompt_number": 179,
       "text": [
        "105.25476226621079"
       ]
      }
     ],
     "prompt_number": 179
    },
    {
     "cell_type": "code",
     "collapsed": false,
     "input": [
      "nllf(total_saves, total_savables)"
     ],
     "language": "python",
     "metadata": {},
     "outputs": [
      {
       "metadata": {},
       "output_type": "pyout",
       "prompt_number": 180,
       "text": [
        "185.09959480676741"
       ]
      }
     ],
     "prompt_number": 180
    },
    {
     "cell_type": "code",
     "collapsed": false,
     "input": [
      "nllf(0.5, 0.5)"
     ],
     "language": "python",
     "metadata": {},
     "outputs": [
      {
       "metadata": {},
       "output_type": "pyout",
       "prompt_number": 181,
       "text": [
        "103.73915109562266"
       ]
      }
     ],
     "prompt_number": 181
    },
    {
     "cell_type": "code",
     "collapsed": false,
     "input": [
      "# Now we'll estimate the values of a and b via maximizing the log-likelihood\n",
      "\n",
      "from scipy.optimize import minimize\n",
      "\n",
      "def nllf_log_args(arg_array):\n",
      "    return nllf(exp(arg_array[0]), exp(arg_array[1]))\n",
      "\n",
      "result = minimize(nllf_log_args, [log(0.5), log(0.5)], tol=10**-3)\n",
      "\n",
      "result"
     ],
     "language": "python",
     "metadata": {},
     "outputs": [
      {
       "metadata": {},
       "output_type": "pyout",
       "prompt_number": 190,
       "text": [
        "   status: 0\n",
        "  success: True\n",
        "     njev: 12\n",
        "     nfev: 48\n",
        " hess_inv: array([[ 0.48088923,  0.46077401],\n",
        "       [ 0.46077401,  0.45425467]])\n",
        "      fun: 72.39193662170837\n",
        "        x: array([ 3.16494542,  2.25544616])\n",
        "  message: 'Optimization terminated successfully.'\n",
        "      jac: array([  6.77108765e-05,  -1.70707703e-04])"
       ]
      }
     ],
     "prompt_number": 190
    },
    {
     "cell_type": "code",
     "collapsed": false,
     "input": [
      "# Calculate the prior parameters in more usable forms\n",
      "\n",
      "a, b = exp(result.x)\n",
      "a"
     ],
     "language": "python",
     "metadata": {},
     "outputs": [
      {
       "metadata": {},
       "output_type": "pyout",
       "prompt_number": 227,
       "text": [
        "23.687451098207482"
       ]
      }
     ],
     "prompt_number": 227
    },
    {
     "cell_type": "code",
     "collapsed": false,
     "input": [
      "b"
     ],
     "language": "python",
     "metadata": {},
     "outputs": [
      {
       "metadata": {},
       "output_type": "pyout",
       "prompt_number": 228,
       "text": [
        "9.5395484971122819"
       ]
      }
     ],
     "prompt_number": 228
    },
    {
     "cell_type": "code",
     "collapsed": false,
     "input": [
      "# Calculated the expected value of the prior\n",
      "\n",
      "prior_mean = a/(a+b)\n",
      "prior_mean"
     ],
     "language": "python",
     "metadata": {},
     "outputs": [
      {
       "metadata": {},
       "output_type": "pyout",
       "prompt_number": 229,
       "text": [
        "0.71289768521693453"
       ]
      }
     ],
     "prompt_number": 229
    },
    {
     "cell_type": "code",
     "collapsed": false,
     "input": [
      "# Plot the pdf of the prior distribution\n",
      "# Make a function for repeat use\n",
      "\n",
      "from scipy.stats import beta\n",
      "\n",
      "def bayes_goalie_chart(posterior_1_country, posterior_2_country=None, chart_title=None):\n",
      "    x = arange(0,1,0.01)\n",
      "    \n",
      "    if posterior_1_country:\n",
      "        plot(x, beta(*posteriors[posterior_1_country]).pdf(x),\n",
      "             label=\"{} Posterior\".format(posterior_1_country))\n",
      "    \n",
      "    if posterior_2_country is not None:\n",
      "        plot(x, beta(*posteriors[posterior_2_country]).pdf(x),\n",
      "             label=\"{} Posterior\".format(posterior_2_country))\n",
      "    else:\n",
      "        plot(x, beta(a, b).pdf(x), label=\"Prior\")\n",
      "    \n",
      "    # Other nice formatting stuff\n",
      "    title(chart_title)\n",
      "    legend(loc=\"best\")\n",
      "    xlabel(\"Probability\")\n",
      "    ylabel(\"Density\")\n",
      "    show()\n",
      "    \n",
      "bayes_goalie_chart(None, chart_title=\"Probability of a Save\")"
     ],
     "language": "python",
     "metadata": {},
     "outputs": [
      {
       "metadata": {},
       "output_type": "display_data",
       "png": "[encoded data removed]",
       "text": [
        "<matplotlib.figure.Figure at 0x7fdd8b7842d0>"
       ]
      }
     ],
     "prompt_number": 204
    },
    {
     "cell_type": "code",
     "collapsed": false,
     "input": [
      "# Calculate posterior distributions\n",
      "\n",
      "posteriors = {k:(a + saves, b + savables - saves) for k, (savables, saves) in goalie_stats.items()}\n",
      "posteriors"
     ],
     "language": "python",
     "metadata": {},
     "outputs": [
      {
       "metadata": {},
       "output_type": "pyout",
       "prompt_number": 122,
       "text": [
        "{u'ALG': (46.688210323459558, 16.539863916112218),\n",
        " u'ARG': (38.688210323459558, 12.539863916112218),\n",
        " u'AUS': (33.688210323459558, 18.539863916112218),\n",
        " u'BEL': (36.688210323459558, 12.539863916112218),\n",
        " u'BIH': (36.688210323459558, 12.539863916112218),\n",
        " u'BRA': (33.688210323459558, 22.539863916112218),\n",
        " u'CHI': (41.688210323459558, 13.539863916112218),\n",
        " u'CIV': (31.688210323459558, 14.539863916112218),\n",
        " u'CMR': (38.688210323459558, 18.539863916112218),\n",
        " u'COL': (45.688210323459558, 14.539863916112218),\n",
        " u'CRC': (44.688210323459558, 11.539863916112218),\n",
        " u'CRO': (28.688210323459558, 15.539863916112218),\n",
        " u'ECU': (41.688210323459558, 12.539863916112218),\n",
        " u'ENG': (28.688210323459558, 14.539863916112218),\n",
        " u'ESP': (30.688210323459558, 16.539863916112218),\n",
        " u'FRA': (33.688210323459558, 12.539863916112218),\n",
        " u'GER': (47.688210323459558, 14.539863916112218),\n",
        " u'GHA': (35.688210323459558, 14.539863916112218),\n",
        " u'GRE': (34.688210323459558, 14.539863916112218),\n",
        " u'HON': (34.688210323459558, 16.539863916112218),\n",
        " u'IRN': (34.688210323459558, 14.539863916112218),\n",
        " u'ITA': (35.688210323459558, 12.539863916112218),\n",
        " u'JPN': (31.688210323459558, 15.539863916112218),\n",
        " u'KOR': (35.688210323459558, 15.539863916112218),\n",
        " u'MEX': (33.688210323459558, 12.539863916112218),\n",
        " u'NED': (41.688210323459558, 14.539863916112218),\n",
        " u'NGA': (44.688210323459558, 13.539863916112218),\n",
        " u'POR': (30.688210323459558, 17.539863916112218),\n",
        " u'RUS': (33.688210323459558, 12.539863916112218),\n",
        " u'SUI': (45.688210323459558, 16.539863916112218),\n",
        " u'URU': (33.688210323459558, 15.539863916112218),\n",
        " u'USA': (50.688210323459558, 15.539863916112218)}"
       ]
      }
     ],
     "prompt_number": 122
    },
    {
     "cell_type": "code",
     "collapsed": false,
     "input": [
      "posterior_means = {k:saves/(saves + misses) for k, (saves, misses) in posteriors.items()}\n",
      "posterior_means"
     ],
     "language": "python",
     "metadata": {},
     "outputs": [
      {
       "metadata": {},
       "output_type": "pyout",
       "prompt_number": 124,
       "text": [
        "{u'ALG': 0.73840949427871994,\n",
        " u'ARG': 0.75521500461897817,\n",
        " u'AUS': 0.64502110816743319,\n",
        " u'BEL': 0.74527006977591448,\n",
        " u'BIH': 0.74527006977591448,\n",
        " u'BRA': 0.59913505449117299,\n",
        " u'CHI': 0.75483729783192954,\n",
        " u'CIV': 0.68547545717000857,\n",
        " u'CMR': 0.67603550945119228,\n",
        " u'COL': 0.75858660434208169,\n",
        " u'CRC': 0.7947668656240271,\n",
        " u'CRO': 0.6486425379514178,\n",
        " u'ECU': 0.76875697520231101,\n",
        " u'ENG': 0.66364766018648691,\n",
        " u'ESP': 0.64978745836192309,\n",
        " u'FRA': 0.72873921048223234,\n",
        " u'GER': 0.76634559089623733,\n",
        " u'GHA': 0.71052316585418474,\n",
        " u'GRE': 0.70464284576006408,\n",
        " u'HON': 0.6771328190327367,\n",
        " u'IRN': 0.70464284576006408,\n",
        " u'ITA': 0.73998829283913037,\n",
        " u'JPN': 0.67096130497966455,\n",
        " u'KOR': 0.69665336542929712,\n",
        " u'MEX': 0.72873921048223234,\n",
        " u'NED': 0.74141273531506691,\n",
        " u'NGA': 0.76746845756216797,\n",
        " u'POR': 0.63631423827989952,\n",
        " u'RUS': 0.72873921048223234,\n",
        " u'SUI': 0.73420575651376552,\n",
        " u'URU': 0.68432923375213883,\n",
        " u'USA': 0.76535836056626516}"
       ]
      }
     ],
     "prompt_number": 124
    },
    {
     "cell_type": "code",
     "collapsed": false,
     "input": [
      "# Calculate the 'rank' of how good a goalie is\n",
      "\n",
      "ranked_posterior_means = [-x for x in sort([-x for x in posterior_means.values()])]\n",
      "posterior_rank = {k:ranked_posterior_means.index(v) + 1 for k, v in posterior_means.items()}\n",
      "posterior_rank"
     ],
     "language": "python",
     "metadata": {},
     "outputs": [
      {
       "metadata": {},
       "output_type": "pyout",
       "prompt_number": 215,
       "text": [
        "{u'ALG': 13,\n",
        " u'ARG': 7,\n",
        " u'AUS': 30,\n",
        " u'BEL': 9,\n",
        " u'BIH': 9,\n",
        " u'BRA': 32,\n",
        " u'CHI': 8,\n",
        " u'CIV': 22,\n",
        " u'CMR': 25,\n",
        " u'COL': 6,\n",
        " u'CRC': 1,\n",
        " u'CRO': 29,\n",
        " u'ECU': 2,\n",
        " u'ENG': 27,\n",
        " u'ESP': 28,\n",
        " u'FRA': 15,\n",
        " u'GER': 4,\n",
        " u'GHA': 18,\n",
        " u'GRE': 19,\n",
        " u'HON': 24,\n",
        " u'IRN': 19,\n",
        " u'ITA': 12,\n",
        " u'JPN': 26,\n",
        " u'KOR': 21,\n",
        " u'MEX': 15,\n",
        " u'NED': 11,\n",
        " u'NGA': 3,\n",
        " u'POR': 31,\n",
        " u'RUS': 15,\n",
        " u'SUI': 14,\n",
        " u'URU': 23,\n",
        " u'USA': 5}"
       ]
      }
     ],
     "prompt_number": 215
    },
    {
     "cell_type": "markdown",
     "metadata": {},
     "source": [
      "Aww, do it turns out that according to this analysis USA is not #1.  Tim Howard was good, but it's hard to come out on top of Costa Rica which only allowed two goals.\n",
      "\n",
      "Let's look at a handful of countries to get a feel for the data.  Why not start with Brazil, who seemed to have the worst performance in the World Cup?"
     ]
    },
    {
     "cell_type": "code",
     "collapsed": false,
     "input": [
      "bayes_goalie_chart('BRA', chart_title=\"Brazil's Posterior Probability of a Save\")"
     ],
     "language": "python",
     "metadata": {},
     "outputs": [
      {
       "metadata": {},
       "output_type": "display_data",
       "png": "[encoded data removed]",
       "text": [
        "<matplotlib.figure.Figure at 0x7fdd9282c910>"
       ]
      }
     ],
     "prompt_number": 207
    },
    {
     "cell_type": "markdown",
     "metadata": {},
     "source": [
      "By comparison, how did the USA compare to the Prior?"
     ]
    },
    {
     "cell_type": "code",
     "collapsed": false,
     "input": [
      "bayes_goalie_chart('USA', chart_title=\"USA's Posterior Probability of a Save\")"
     ],
     "language": "python",
     "metadata": {},
     "outputs": [
      {
       "metadata": {},
       "output_type": "display_data",
       "png": "[encoded data removed]",
       "text": [
        "<matplotlib.figure.Figure at 0x7fdd8b379510>"
       ]
      }
     ],
     "prompt_number": 237
    },
    {
     "cell_type": "markdown",
     "metadata": {},
     "source": [
      "And what does it look like when we compare the two?"
     ]
    },
    {
     "cell_type": "code",
     "collapsed": false,
     "input": [
      "bayes_goalie_chart('USA', posterior_2_country='BRA', chart_title=\"USA vs BRA\")"
     ],
     "language": "python",
     "metadata": {},
     "outputs": [
      {
       "metadata": {},
       "output_type": "display_data",
       "png": "[encoded data removed]",
       "text": [
        "<matplotlib.figure.Figure at 0x7fdd8ab46390>"
       ]
      }
     ],
     "prompt_number": 238
    },
    {
     "cell_type": "markdown",
     "metadata": {},
     "source": [
      "How does the USA posterior compare to Costa Rica's?"
     ]
    },
    {
     "cell_type": "code",
     "collapsed": false,
     "input": [
      "bayes_goalie_chart('USA', posterior_2_country='CRC', chart_title=\"USA vs CRC\")"
     ],
     "language": "python",
     "metadata": {},
     "outputs": [
      {
       "metadata": {},
       "output_type": "display_data",
       "png": "[encoded data removed]",
       "text": [
        "<matplotlib.figure.Figure at 0x7fdd8bea8450>"
       ]
      }
     ],
     "prompt_number": 210
    },
    {
     "cell_type": "markdown",
     "metadata": {},
     "source": [
      "Pretty similar.\n",
      "\n",
      "Since I did this analysis in the Netherlands, I thought I'd compare it to the Netherland's performance."
     ]
    },
    {
     "cell_type": "code",
     "collapsed": false,
     "input": [
      "bayes_goalie_chart('USA', posterior_2_country='NED', chart_title=\"USA vs NED\")"
     ],
     "language": "python",
     "metadata": {},
     "outputs": [
      {
       "metadata": {},
       "output_type": "display_data",
       "png": "[encoded data removed]",
       "text": [
        "<matplotlib.figure.Figure at 0x7fddb7a62650>"
       ]
      }
     ],
     "prompt_number": 211
    },
    {
     "cell_type": "markdown",
     "metadata": {},
     "source": [
      "And how different are all of the goalies from each other?"
     ]
    },
    {
     "cell_type": "code",
     "collapsed": false,
     "input": [
      "for a, b in posteriors.values():\n",
      "    x = arange(0, 1, 0.01)\n",
      "    plot(x, beta(a, b).pdf(x), color='b', alpha=0.25)\n",
      "    \n",
      "title('All Posteriors')\n",
      "show()"
     ],
     "language": "python",
     "metadata": {},
     "outputs": [
      {
       "metadata": {},
       "output_type": "display_data",
       "png": "[encoded data removed]",
       "text": [
        "<matplotlib.figure.Figure at 0x7fdd8b5479d0>"
       ]
      }
     ],
     "prompt_number": 235
    },
    {
     "cell_type": "markdown",
     "metadata": {},
     "source": [
      "Again, pretty similar.  Soccer seems to have prety random outcomes to me.\n",
      "\n",
      "## Further work\n",
      "* Differentiate between different types of attacks (but where's the data?)\n",
      "* Other ways to estimate the prior"
     ]
    },
    {
     "cell_type": "code",
     "collapsed": false,
     "input": [],
     "language": "python",
     "metadata": {},
     "outputs": []
    }
   ],
   "metadata": {}
  }
 ]
}